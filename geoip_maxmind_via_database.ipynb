{
 "cells": [
  {
   "cell_type": "code",
   "execution_count": 2,
   "id": "challenging-small",
   "metadata": {},
   "outputs": [
    {
     "name": "stdout",
     "output_type": "stream",
     "text": [
      "[\n",
      "  {\n",
      "    \"City\": \"Paris\",\n",
      "    \"coordinates\": [\n",
      "      48.8323,\n",
      "      2.4075\n",
      "    ],\n",
      "    \"accuracy\": 5\n",
      "  },\n",
      "  {\n",
      "    \"City\": \"Grandfontaine-sur-Creuse\",\n",
      "    \"coordinates\": [\n",
      "      47.1959,\n",
      "      6.45\n",
      "    ],\n",
      "    \"accuracy\": 200\n",
      "  }\n",
      "]\n"
     ]
    }
   ],
   "source": [
    "import json\n",
    "\n",
    "import geoip2.database\n",
    "import data.ip_data as data\n",
    "\n",
    "geo_data = []\n",
    "\n",
    "with geoip2.database.Reader('./db/GeoLite2-City_20220301/GeoLite2-City.mmdb') as reader:\n",
    "\n",
    "    for ip in data.ip_address_pair:\n",
    "        ip_obj = reader.city(ip)\n",
    "        geo_data.append(\n",
    "            {\"City\": ip_obj.city.name,\n",
    "             \"coordinates\": [ip_obj.location.latitude,\n",
    "                             ip_obj.location.longitude],\n",
    "             \"accuracy\": ip_obj.location.accuracy_radius})\n",
    "\n",
    "my_geo_json = json.dumps(geo_data, indent=2)\n",
    "print(my_geo_json)\n",
    "\n"
   ]
  },
  {
   "cell_type": "code",
   "execution_count": null,
   "id": "unknown-header",
   "metadata": {},
   "outputs": [],
   "source": []
  }
 ],
 "metadata": {
  "kernelspec": {
   "display_name": "my mm venv",
   "language": "python",
   "name": ".mm-venv"
  },
  "language_info": {
   "codemirror_mode": {
    "name": "ipython",
    "version": 3
   },
   "file_extension": ".py",
   "mimetype": "text/x-python",
   "name": "python",
   "nbconvert_exporter": "python",
   "pygments_lexer": "ipython3",
   "version": "3.9.10"
  }
 },
 "nbformat": 4,
 "nbformat_minor": 5
}
