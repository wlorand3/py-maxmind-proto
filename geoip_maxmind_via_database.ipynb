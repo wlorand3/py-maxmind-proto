{
 "cells": [
  {
   "cell_type": "code",
   "execution_count": 2,
   "id": "challenging-small",
   "metadata": {},
   "outputs": [
    {
     "name": "stdout",
     "output_type": "stream",
     "text": [
      "City Name: Palo Alto\n",
      "Lat/Lng: (37.4433, -122.141)\n",
      "Accuracy: 1000 km\n",
      "\n",
      "City Name: None\n",
      "Lat/Lng: (37.751, -97.822)\n",
      "Accuracy: 1000 km\n",
      "\n",
      "City Name: Lorraine\n",
      "Lat/Lng: (45.6679, -73.7686)\n",
      "Accuracy: 5 km\n",
      "\n",
      "City Name: Chiba\n",
      "Lat/Lng: (35.6143, 140.1062)\n",
      "Accuracy: 5 km\n",
      "\n",
      "City Name: Elkton\n",
      "Lat/Lng: (39.6249, -75.8351)\n",
      "Accuracy: 20 km\n",
      "\n",
      "City Name: Paris\n",
      "Lat/Lng: (48.8323, 2.4075)\n",
      "Accuracy: 5 km\n",
      "\n",
      "City Name: None\n",
      "Lat/Lng: (36.7642, 3.1468)\n",
      "Accuracy: 1000 km\n",
      "\n",
      "City Name: None\n",
      "Lat/Lng: (23.5, 121.0)\n",
      "Accuracy: 200 km\n",
      "\n",
      "City Name: None\n",
      "Lat/Lng: (37.751, -97.822)\n",
      "Accuracy: 1000 km\n",
      "\n",
      "City Name: None\n",
      "Lat/Lng: (37.5112, 126.9741)\n",
      "Accuracy: 200 km\n",
      "\n",
      "City Name: Cape Town\n",
      "Lat/Lng: (-34.0486, 18.4811)\n",
      "Accuracy: 200 km\n",
      "\n",
      "City Name: Ayutthaya\n",
      "Lat/Lng: (14.4586, 100.411)\n",
      "Accuracy: 5 km\n",
      "\n",
      "City Name: Rugby\n",
      "Lat/Lng: (52.3518, -1.2778)\n",
      "Accuracy: 200 km\n",
      "\n",
      "City Name: Cheonan\n",
      "Lat/Lng: (36.8112, 127.1545)\n",
      "Accuracy: 20 km\n",
      "\n"
     ]
    }
   ],
   "source": [
    "import geoip2.database\n",
    "import data.ip_data as data\n",
    "\n",
    "with geoip2.database.Reader('./db/GeoLite2-City_20220301/GeoLite2-City.mmdb') as reader:\n",
    "\n",
    "    for ip in data.more_ip_addresses:\n",
    "        ip_obj = reader.city(ip)\n",
    "        print(f'City Name: {ip_obj.city.name}')\n",
    "        print(\n",
    "            f'Lat/Lng: {ip_obj.location.latitude, ip_obj.location.longitude}')\n",
    "        print(f'Accuracy: {ip_obj.location.accuracy_radius} km\\n')\n"
   ]
  },
  {
   "cell_type": "code",
   "execution_count": null,
   "id": "mighty-necessity",
   "metadata": {},
   "outputs": [],
   "source": []
  }
 ],
 "metadata": {
  "kernelspec": {
   "display_name": "my mm venv",
   "language": "python",
   "name": ".mm-venv"
  },
  "language_info": {
   "codemirror_mode": {
    "name": "ipython",
    "version": 3
   },
   "file_extension": ".py",
   "mimetype": "text/x-python",
   "name": "python",
   "nbconvert_exporter": "python",
   "pygments_lexer": "ipython3",
   "version": "3.9.10"
  }
 },
 "nbformat": 4,
 "nbformat_minor": 5
}
